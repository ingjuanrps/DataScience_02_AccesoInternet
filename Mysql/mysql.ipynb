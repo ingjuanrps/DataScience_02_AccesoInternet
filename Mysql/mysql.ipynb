{
 "cells": [
  {
   "cell_type": "markdown",
   "metadata": {},
   "source": [
    "# MySQL"
   ]
  },
  {
   "cell_type": "code",
   "execution_count": 26,
   "metadata": {},
   "outputs": [],
   "source": [
    "%matplotlib inline\n",
    "%store -r\n",
    "import pandas as pd\n",
    "import mysql.connector\n"
   ]
  },
  {
   "cell_type": "markdown",
   "metadata": {},
   "source": [
    "## Observando DatasFrame para crear base de datos."
   ]
  },
  {
   "cell_type": "code",
   "execution_count": 4,
   "metadata": {},
   "outputs": [],
   "source": [
    "mysql_1=kpi"
   ]
  },
  {
   "cell_type": "code",
   "execution_count": 5,
   "metadata": {},
   "outputs": [],
   "source": [
    "mysql_2=crecimiento100hogares"
   ]
  },
  {
   "cell_type": "code",
   "execution_count": 6,
   "metadata": {},
   "outputs": [],
   "source": [
    "mysql_3=serviciosOfrecidos"
   ]
  },
  {
   "cell_type": "code",
   "execution_count": 7,
   "metadata": {},
   "outputs": [
    {
     "data": {
      "text/plain": [
       "(864, 20)"
      ]
     },
     "execution_count": 7,
     "metadata": {},
     "output_type": "execute_result"
    }
   ],
   "source": [
    "mysql_1.shape"
   ]
  },
  {
   "cell_type": "code",
   "execution_count": 8,
   "metadata": {},
   "outputs": [
    {
     "data": {
      "text/plain": [
       "(36, 5)"
      ]
     },
     "execution_count": 8,
     "metadata": {},
     "output_type": "execute_result"
    }
   ],
   "source": [
    "mysql_2.shape"
   ]
  },
  {
   "cell_type": "code",
   "execution_count": 9,
   "metadata": {},
   "outputs": [
    {
     "data": {
      "text/plain": [
       "(36, 13)"
      ]
     },
     "execution_count": 9,
     "metadata": {},
     "output_type": "execute_result"
    }
   ],
   "source": [
    "mysql_3.shape"
   ]
  },
  {
   "cell_type": "code",
   "execution_count": 10,
   "metadata": {},
   "outputs": [
    {
     "data": {
      "text/plain": [
       "Index(['Anio', 'Trimestre', 'AnioTrimestre', 'Provincia',\n",
       "       'AccesoCada100Hogares', 'DiferenciaTrimestral', 'PorcientoTrimestral',\n",
       "       'Cumple2', 'cumple_KPI', '2_cumplido', '2_cumplido_anterior',\n",
       "       'BandAnchaFija', 'Dial_up', 'ADSL', 'Cablemodem', 'FibraOptica',\n",
       "       'Wireless', 'OtrosTipoConexion', 'nuevoAcceso', 'Crecimiento'],\n",
       "      dtype='object')"
      ]
     },
     "execution_count": 10,
     "metadata": {},
     "output_type": "execute_result"
    }
   ],
   "source": [
    "mysql_1.columns"
   ]
  },
  {
   "cell_type": "code",
   "execution_count": 11,
   "metadata": {},
   "outputs": [
    {
     "data": {
      "text/plain": [
       "Index(['Provincia', 'nuevoAcceso', 'AccesoCada100Hogares',\n",
       "       'PorcientoTrimestral', 'Crecimiento'],\n",
       "      dtype='object')"
      ]
     },
     "execution_count": 11,
     "metadata": {},
     "output_type": "execute_result"
    }
   ],
   "source": [
    "mysql_2.columns"
   ]
  },
  {
   "cell_type": "code",
   "execution_count": 12,
   "metadata": {},
   "outputs": [
    {
     "data": {
      "text/plain": [
       "Index(['Provincia', 'BandAnchaFija', 'Dial_up', 'ADSL', 'Cablemodem',\n",
       "       'FibraOptica', 'Wireless', 'OtrosTipoConexion', 'anioTrimestre',\n",
       "       'Mayor_Valor', 'ServicioMayorValor', 'Menor_Valor',\n",
       "       'ServicioMenorValor'],\n",
       "      dtype='object')"
      ]
     },
     "execution_count": 12,
     "metadata": {},
     "output_type": "execute_result"
    }
   ],
   "source": [
    "mysql_3.columns"
   ]
  },
  {
   "cell_type": "code",
   "execution_count": null,
   "metadata": {},
   "outputs": [],
   "source": [
    "# Importamos la librería necesaría\n",
    "import mysql.connector\n",
    "\n",
    "# Establecemos la conexión a MySQL\n",
    "cnx = mysql.connector.connect(\n",
    "    host='localhost',\n",
    "    user='root',\n",
    "    password='Wip@8Wip@8'\n",
    ")\n",
    "\n",
    "# Instanciamos el cursor y creamos la base de datos 'air_flights' si no existe\n",
    "cursor = cnx.cursor()\n",
    "cursor.execute(\"CREATE DATABASE IF NOT EXISTS acceso_internet\")\n",
    "cursor.execute(\"USE acceso_internet\")\n",
    "\n",
    "# Creamos la tabla 'hogares100'\n",
    "cursor.execute(\"\"\"\n",
    "    CREATE TABLE IF NOT EXISTS hogares100 (\n",
    "        Anio INT,\n",
    "        Trimestre INT,\n",
    "        AnioTrimestre INT,\n",
    "        Provincia VARCHAR(550),\n",
    "        AccesoCada100Hogares FLOAT,\n",
    "        DiferenciaTrimestral FLOAT,\n",
    "        PorcientoTrimestral FLOAT,\n",
    "        Cumple2 INT,\n",
    "        cumple_KPI INT,\n",
    "        2_cumplido BOOLEAN,\n",
    "        2_cumplido_anterior INT,\n",
    "        BandAnchaFija INT,\n",
    "        Dial_up INT,\n",
    "        ADSL INT,\n",
    "        Cablemodem INT,\n",
    "        FibraOptica INT,\n",
    "        Wireless INT,\n",
    "        OtrosTipoConexion INT,\n",
    "        nuevoAcceso FLOAT,\n",
    "        Crecimiento FLOAT\n",
    "    )\n",
    "\"\"\")\n",
    "\n",
    "\n",
    "\n",
    "\n",
    "# Definimos los datos a utilizar a utilizar\n",
    "data = mysql_1\n",
    "\n",
    "# Escribimos la consulta SQL para insertar un solo registro\n",
    "insert_query = \"\"\"\n",
    "    INSERT INTO air_accidents\n",
    "    (Anio,Trimestre,AnioTrimestre,Provincia,AccesoCada100Hogares,DiferenciaTrimestral,PorcientoTrimestral,Cumple2,cumple_KPI,2_cumplido,2_cumplido_anterior,BandAnchaFija,Dial_up,ADSL,Cablemodem,FibraOptica,Wireless,OtrosTipoConexion,nuevoAcceso,Crecimiento)\n",
    "    VALUES\n",
    "    (%(Anio)s, %(Trimestre)s, %(AnioTrimestre)s, %(Provincia)s, %(AccesoCada100Hogares)s, %(DiferenciaTrimestral)s, %(PorcientoTrimestral)s, %(Cumple2)s, %(cumple_KPI)s, %(2_cumplido)s, %(2_cumplido_anterior)s, %(BandAnchaFija)s, %(Dial_up)s, %(ADSL)s, %(Cablemodem)s, %(FibraOptica)s, %(Wireless)s, %(OtrosTipoConexion)s, %(nuevoAcceso)s, %(Crecimiento)s)\n",
    "\"\"\"\n",
    "cursor.execute(insert_query)\n",
    "'''\n",
    "# Ejecutamos la inserción de datos para cada registro\n",
    "for row in data:\n",
    "    # Reemplazar los valores NaN por None en el diccionario\n",
    "    row = {key: None if pd.isna(value) else value for key, value in row.items()}\n",
    "    cursor.execute(insert_query, row)\n",
    " \n",
    "'''\n",
    "\n",
    "\n",
    "\n",
    "# Creamos la tabla 'primerkpi'\n",
    "cursor.execute(\"\"\"\n",
    "    CREATE TABLE IF NOT EXISTS primerkpi (\n",
    "        Provincia VARCHAR(550),\n",
    "        nuevoAcceso FLOAT,\n",
    "        AccesoCada100Hogares FLOAT,\n",
    "        PorcientoTrimestral FLOAT,\n",
    "        Crecimiento FLOAT\n",
    "    )\n",
    "\"\"\")\n",
    "\n",
    "\n",
    "# Definimos los datos a utilizar a utilizar\n",
    "data2 = mysql_2.to_dict('records')\n",
    "\n",
    "# Escribimos la consulta SQL para insertar un solo registro\n",
    "insert_query = \"\"\"\n",
    "    INSERT INTO air_accidents\n",
    "    (Provincia ,nuevoAcceso,AccesoCada100Hogares,PorcientoTrimestral,Crecimiento)\n",
    "    VALUES\n",
    "    (%(Provincia )s, %(nuevoAcceso)s, %(AccesoCada100Hogares)s, %(PorcientoTrimestral)s, %(Crecimiento)s)\n",
    "\"\"\"\n",
    "\n",
    "# Ejecutamos la inserción de datos para cada registro\n",
    "for row in data2:\n",
    "    # Reemplazar los valores NaN por None en el diccionario\n",
    "    row = {key: None if pd.isna(value) else value for key, value in row.items()}\n",
    "    cursor.execute(insert_query, row)\n",
    "\n",
    "\n",
    "\n",
    "# Creamos la tabla 'segundakpi'\n",
    "cursor.execute(\"\"\"\n",
    "    CREATE TABLE IF NOT EXISTS segundakpi (\n",
    "        Provincia VARCHAR(550),\n",
    "        BandAnchaFija INT,\n",
    "        Dial_up INT,\n",
    "        ADSL INT,\n",
    "        Cablemodem INT,\n",
    "        FibraOptica INT,\n",
    "        Wireless INT,\n",
    "        OtrosTipoConexion INT,\n",
    "        anioTrimestre INT,\n",
    "        Mayor_Valor INT,\n",
    "        ServicioMayorValor VARCHAR(550),\n",
    "        Menor_Valor INT,\n",
    "        ServicioMenorValor VARCHAR(550)\n",
    "    )\n",
    "\"\"\")\n",
    "\n",
    "# Definimos los datos a utilizar a utilizar\n",
    "data3 = mysql_3.to_dict('records')\n",
    "\n",
    "# Escribimos la consulta SQL para insertar un solo registro\n",
    "insert_query = \"\"\"\n",
    "    INSERT INTO air_accidents\n",
    "    (Provincia ,BandAnchaFija,Dial_up,ADSL,Cablemodem,FibraOptica,Wireless,OtrosTipoConexion,anioTrimestre,Mayor_Valor,ServicioMayorValor,Menor_Valor,ServicioMenorValor)\n",
    "    VALUES\n",
    "    (%(Provincia )s, %(BandAnchaFija)s, %(Dial_up)s, %(ADSL)s, %(Cablemodem)s,%(FibraOptica)s,%(Wireless)s,%(OtrosTipoConexion)s,%(anioTrimestre)s,%(Mayor_Valor)s,%(ServicioMayorValor)s,%(Menor_Valor)s,%(ServicioMenorValor)s)\n",
    "\"\"\"\n",
    "\n",
    "# Ejecutamos la inserción de datos para cada registro\n",
    "for row in data3:\n",
    "    # Reemplazar los valores NaN por None en el diccionario\n",
    "    row = {key: None if pd.isna(value) else value for key, value in row.items()}\n",
    "    cursor.execute(insert_query, row)\n",
    "\n",
    "\n",
    "\n",
    "\n",
    "\n",
    "\n",
    "\n",
    "\n",
    "# Confirmamos los cambios en la base de datos\n",
    "cnx.commit()\n",
    "\n",
    "# Cerrar la conexión\n",
    "cursor.close()\n",
    "cnx.close()"
   ]
  }
 ],
 "metadata": {
  "kernelspec": {
   "display_name": "Python 3",
   "language": "python",
   "name": "python3"
  },
  "language_info": {
   "codemirror_mode": {
    "name": "ipython",
    "version": 3
   },
   "file_extension": ".py",
   "mimetype": "text/x-python",
   "name": "python",
   "nbconvert_exporter": "python",
   "pygments_lexer": "ipython3",
   "version": "3.10.7"
  }
 },
 "nbformat": 4,
 "nbformat_minor": 2
}
